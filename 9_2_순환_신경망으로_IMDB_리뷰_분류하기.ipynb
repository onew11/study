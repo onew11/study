{
  "nbformat": 4,
  "nbformat_minor": 0,
  "metadata": {
    "colab": {
      "provenance": [],
      "authorship_tag": "ABX9TyO/O3/u77ZSkAMSYmrDJ8kn",
      "include_colab_link": true
    },
    "kernelspec": {
      "name": "python3",
      "display_name": "Python 3"
    },
    "language_info": {
      "name": "python"
    }
  },
  "cells": [
    {
      "cell_type": "markdown",
      "metadata": {
        "id": "view-in-github",
        "colab_type": "text"
      },
      "source": [
        "<a href=\"https://colab.research.google.com/github/onew11/study/blob/main/9_2_%EC%88%9C%ED%99%98_%EC%8B%A0%EA%B2%BD%EB%A7%9D%EC%9C%BC%EB%A1%9C_IMDB_%EB%A6%AC%EB%B7%B0_%EB%B6%84%EB%A5%98%ED%95%98%EA%B8%B0.ipynb\" target=\"_parent\"><img src=\"https://colab.research.google.com/assets/colab-badge.svg\" alt=\"Open In Colab\"/></a>"
      ]
    },
    {
      "cell_type": "code",
      "execution_count": null,
      "metadata": {
        "id": "nvi9MIvrJvhB"
      },
      "outputs": [],
      "source": [
        "# 실행마다 동일한 결과를 얻기 위해 케라스에 랜덤 시드를 사용하고 텐서플로 연산을 결정적으로 만듭니다. \n",
        "import tensorflow as tf\n",
        "\n",
        "tf.keras.utils.set_random_seed(42)\n",
        "tf.config.experimental.enable_op_determinism()"
      ]
    },
    {
      "cell_type": "code",
      "source": [
        "from tensorflow.keras.datasets import imdb\n",
        "\n",
        "(train_input, train_target), (test_input, test_target) = imdb.load_data(\n",
        "    num_words=500)"
      ],
      "metadata": {
        "colab": {
          "base_uri": "https://localhost:8080/"
        },
        "id": "GE4w45FtJ0IV",
        "outputId": "c341632b-353a-4afc-a40e-4068a39f95cd"
      },
      "execution_count": null,
      "outputs": [
        {
          "output_type": "stream",
          "name": "stdout",
          "text": [
            "Downloading data from https://storage.googleapis.com/tensorflow/tf-keras-datasets/imdb.npz\n",
            "17465344/17464789 [==============================] - 0s 0us/step\n",
            "17473536/17464789 [==============================] - 0s 0us/step\n"
          ]
        }
      ]
    },
    {
      "cell_type": "code",
      "source": [
        "print(train_input.shape, test_input.shape)"
      ],
      "metadata": {
        "colab": {
          "base_uri": "https://localhost:8080/"
        },
        "id": "4_PW9zMaJ1On",
        "outputId": "68b979b3-a840-478e-ed18-95558b30c8e1"
      },
      "execution_count": null,
      "outputs": [
        {
          "output_type": "stream",
          "name": "stdout",
          "text": [
            "(25000,) (25000,)\n"
          ]
        }
      ]
    },
    {
      "cell_type": "code",
      "source": [
        "print(len(train_input[0]))"
      ],
      "metadata": {
        "colab": {
          "base_uri": "https://localhost:8080/"
        },
        "id": "XzHkrkMjJ2EB",
        "outputId": "c6d3bc54-52d6-4748-c3ae-8c8c3aed221a"
      },
      "execution_count": null,
      "outputs": [
        {
          "output_type": "stream",
          "name": "stdout",
          "text": [
            "218\n"
          ]
        }
      ]
    },
    {
      "cell_type": "code",
      "source": [
        "print(len(train_input[1]))"
      ],
      "metadata": {
        "colab": {
          "base_uri": "https://localhost:8080/"
        },
        "id": "v8MpcC7IJ25o",
        "outputId": "cefc8305-9c2a-4ac2-bad2-78ef09787f87"
      },
      "execution_count": null,
      "outputs": [
        {
          "output_type": "stream",
          "name": "stdout",
          "text": [
            "189\n"
          ]
        }
      ]
    },
    {
      "cell_type": "code",
      "source": [
        "print(train_input[0])"
      ],
      "metadata": {
        "colab": {
          "base_uri": "https://localhost:8080/"
        },
        "id": "k02QqwKoJ4AK",
        "outputId": "9486763f-0939-4e1d-c0fa-a9cc4f2b8392"
      },
      "execution_count": null,
      "outputs": [
        {
          "output_type": "stream",
          "name": "stdout",
          "text": [
            "[1, 14, 22, 16, 43, 2, 2, 2, 2, 65, 458, 2, 66, 2, 4, 173, 36, 256, 5, 25, 100, 43, 2, 112, 50, 2, 2, 9, 35, 480, 284, 5, 150, 4, 172, 112, 167, 2, 336, 385, 39, 4, 172, 2, 2, 17, 2, 38, 13, 447, 4, 192, 50, 16, 6, 147, 2, 19, 14, 22, 4, 2, 2, 469, 4, 22, 71, 87, 12, 16, 43, 2, 38, 76, 15, 13, 2, 4, 22, 17, 2, 17, 12, 16, 2, 18, 2, 5, 62, 386, 12, 8, 316, 8, 106, 5, 4, 2, 2, 16, 480, 66, 2, 33, 4, 130, 12, 16, 38, 2, 5, 25, 124, 51, 36, 135, 48, 25, 2, 33, 6, 22, 12, 215, 28, 77, 52, 5, 14, 407, 16, 82, 2, 8, 4, 107, 117, 2, 15, 256, 4, 2, 7, 2, 5, 2, 36, 71, 43, 2, 476, 26, 400, 317, 46, 7, 4, 2, 2, 13, 104, 88, 4, 381, 15, 297, 98, 32, 2, 56, 26, 141, 6, 194, 2, 18, 4, 226, 22, 21, 134, 476, 26, 480, 5, 144, 30, 2, 18, 51, 36, 28, 224, 92, 25, 104, 4, 226, 65, 16, 38, 2, 88, 12, 16, 283, 5, 16, 2, 113, 103, 32, 15, 16, 2, 19, 178, 32]\n"
          ]
        }
      ]
    },
    {
      "cell_type": "code",
      "source": [
        "print(train_target[:20])"
      ],
      "metadata": {
        "colab": {
          "base_uri": "https://localhost:8080/"
        },
        "id": "zXcmICk8J6Hw",
        "outputId": "5b287212-e943-4bb6-98d0-af63a08a9b25"
      },
      "execution_count": null,
      "outputs": [
        {
          "output_type": "stream",
          "name": "stdout",
          "text": [
            "[1 0 0 1 0 0 1 0 1 0 1 0 0 0 0 0 1 1 0 1]\n"
          ]
        }
      ]
    },
    {
      "cell_type": "code",
      "source": [
        "from sklearn.model_selection import train_test_split\n",
        "\n",
        "train_input, val_input, train_target, val_target = train_test_split(\n",
        "    train_input, train_target, test_size=0.2, random_state=42)"
      ],
      "metadata": {
        "id": "nwGHfV1jJ8al"
      },
      "execution_count": null,
      "outputs": []
    },
    {
      "cell_type": "code",
      "source": [
        "import numpy as np\n",
        "\n",
        "lengths = np.array([len(x) for x in train_input])"
      ],
      "metadata": {
        "id": "aMZ1MCq6J9s6"
      },
      "execution_count": null,
      "outputs": []
    },
    {
      "cell_type": "code",
      "source": [
        "print(np.mean(lengths), np.median(lengths))"
      ],
      "metadata": {
        "colab": {
          "base_uri": "https://localhost:8080/"
        },
        "id": "BTCZPhgmJ-1N",
        "outputId": "1f93ed8d-b9b8-4786-e350-9eb8b730ecea"
      },
      "execution_count": null,
      "outputs": [
        {
          "output_type": "stream",
          "name": "stdout",
          "text": [
            "239.00925 178.0\n"
          ]
        }
      ]
    },
    {
      "cell_type": "code",
      "source": [
        "import matplotlib.pyplot as plt\n",
        "\n",
        "plt.hist(lengths)\n",
        "plt.xlabel('length')\n",
        "plt.ylabel('frequency')\n",
        "plt.show()"
      ],
      "metadata": {
        "colab": {
          "base_uri": "https://localhost:8080/",
          "height": 279
        },
        "id": "DtEgBArpKAbW",
        "outputId": "07f76d10-59e3-4287-db38-dd57b254509c"
      },
      "execution_count": null,
      "outputs": [
        {
          "output_type": "display_data",
          "data": {
            "text/plain": [
              "<Figure size 432x288 with 1 Axes>"
            ],
            "image/png": "[encoded data removed]"
          },
          "metadata": {
            "needs_background": "light"
          }
        }
      ]
    },
    {
      "cell_type": "code",
      "source": [
        "from tensorflow.keras.preprocessing.sequence import pad_sequences\n",
        "\n",
        "train_seq = pad_sequences(train_input, maxlen=100)"
      ],
      "metadata": {
        "id": "CTyaBlR6KBxT"
      },
      "execution_count": null,
      "outputs": []
    },
    {
      "cell_type": "code",
      "source": [
        "print(train_seq.shape)"
      ],
      "metadata": {
        "colab": {
          "base_uri": "https://localhost:8080/"
        },
        "id": "24sKIm50KDN3",
        "outputId": "a8dfb409-543a-4d43-e51f-32f97ae8ab86"
      },
      "execution_count": null,
      "outputs": [
        {
          "output_type": "stream",
          "name": "stdout",
          "text": [
            "(20000, 100)\n"
          ]
        }
      ]
    },
    {
      "cell_type": "code",
      "source": [
        "print(train_seq[0])"
      ],
      "metadata": {
        "colab": {
          "base_uri": "https://localhost:8080/"
        },
        "id": "2fdoy9IYKE-m",
        "outputId": "6f680df9-0f7b-4d5f-8b75-bd58bf53a0f4"
      },
      "execution_count": null,
      "outputs": [
        {
          "output_type": "stream",
          "name": "stdout",
          "text": [
            "[ 10   4  20   9   2 364 352   5  45   6   2   2  33 269   8   2 142   2\n",
            "   5   2  17  73  17 204   5   2  19  55   2   2  92  66 104  14  20  93\n",
            "  76   2 151  33   4  58  12 188   2 151  12 215  69 224 142  73 237   6\n",
            "   2   7   2   2 188   2 103  14  31  10  10 451   7   2   5   2  80  91\n",
            "   2  30   2  34  14  20 151  50  26 131  49   2  84  46  50  37  80  79\n",
            "   6   2  46   7  14  20  10  10 470 158]\n"
          ]
        }
      ]
    },
    {
      "cell_type": "code",
      "source": [
        "print(train_input[0][-10:])"
      ],
      "metadata": {
        "colab": {
          "base_uri": "https://localhost:8080/"
        },
        "id": "Od331S7ZKGUj",
        "outputId": "f7e21cb1-403b-4296-9f17-77d45b7421d4"
      },
      "execution_count": null,
      "outputs": [
        {
          "output_type": "stream",
          "name": "stdout",
          "text": [
            "[6, 2, 46, 7, 14, 20, 10, 10, 470, 158]\n"
          ]
        }
      ]
    },
    {
      "cell_type": "code",
      "source": [
        "print(train_seq[5])"
      ],
      "metadata": {
        "colab": {
          "base_uri": "https://localhost:8080/"
        },
        "id": "0I8gJd-VKHew",
        "outputId": "6bcc4c24-e073-4f59-c79b-4252d7795e42"
      },
      "execution_count": null,
      "outputs": [
        {
          "output_type": "stream",
          "name": "stdout",
          "text": [
            "[  0   0   0   0   1   2 195  19  49   2   2 190   4   2 352   2 183  10\n",
            "  10  13  82  79   4   2  36  71 269   8   2  25  19  49   7   4   2   2\n",
            "   2   2   2  10  10  48  25  40   2  11   2   2  40   2   2   5   4   2\n",
            "   2  95  14 238  56 129   2  10  10  21   2  94 364 352   2   2  11 190\n",
            "  24 484   2   7  94 205 405  10  10  87   2  34  49   2   7   2   2   2\n",
            "   2   2 290   2  46  48  64  18   4   2]\n"
          ]
        }
      ]
    },
    {
      "cell_type": "code",
      "source": [
        "val_seq = pad_sequences(val_input, maxlen=100)"
      ],
      "metadata": {
        "id": "DEr-QtG_KIyk"
      },
      "execution_count": null,
      "outputs": []
    },
    {
      "cell_type": "code",
      "source": [
        "from tensorflow import keras\n",
        "\n",
        "model = keras.Sequential()\n",
        "\n",
        "model.add(keras.layers.SimpleRNN(8, input_shape=(100, 500)))\n",
        "model.add(keras.layers.Dense(1, activation='sigmoid'))"
      ],
      "metadata": {
        "id": "31vz7Yv9KKPn"
      },
      "execution_count": null,
      "outputs": []
    },
    {
      "cell_type": "code",
      "source": [
        "train_oh = keras.utils.to_categorical(train_seq)"
      ],
      "metadata": {
        "id": "klBf24tYKLgC"
      },
      "execution_count": null,
      "outputs": []
    },
    {
      "cell_type": "code",
      "source": [
        "print(train_oh.shape)"
      ],
      "metadata": {
        "colab": {
          "base_uri": "https://localhost:8080/"
        },
        "id": "--rzumwaKMp0",
        "outputId": "1e632533-a51d-4721-fb7f-e79c9e2b1e69"
      },
      "execution_count": null,
      "outputs": [
        {
          "output_type": "stream",
          "name": "stdout",
          "text": [
            "(20000, 100, 500)\n"
          ]
        }
      ]
    },
    {
      "cell_type": "code",
      "source": [
        "print(train_oh[0][0][:12])"
      ],
      "metadata": {
        "colab": {
          "base_uri": "https://localhost:8080/"
        },
        "id": "RDFHNscbKOKF",
        "outputId": "4fe958d5-31f6-4726-d36a-91511d26c6e0"
      },
      "execution_count": null,
      "outputs": [
        {
          "output_type": "stream",
          "name": "stdout",
          "text": [
            "[0. 0. 0. 0. 0. 0. 0. 0. 0. 0. 1. 0.]\n"
          ]
        }
      ]
    },
    {
      "cell_type": "code",
      "source": [
        "print(np.sum(train_oh[0][0]))"
      ],
      "metadata": {
        "colab": {
          "base_uri": "https://localhost:8080/"
        },
        "id": "kSWQ980sKPpB",
        "outputId": "d384b440-7dba-438d-8477-ca851b7741f4"
      },
      "execution_count": null,
      "outputs": [
        {
          "output_type": "stream",
          "name": "stdout",
          "text": [
            "1.0\n"
          ]
        }
      ]
    },
    {
      "cell_type": "code",
      "source": [
        "val_oh = keras.utils.to_categorical(val_seq)"
      ],
      "metadata": {
        "id": "ksC8bsi0KQ7P"
      },
      "execution_count": null,
      "outputs": []
    },
    {
      "cell_type": "code",
      "source": [
        "model.summary()"
      ],
      "metadata": {
        "colab": {
          "base_uri": "https://localhost:8080/"
        },
        "id": "NIZ-eCFeKSBx",
        "outputId": "fa062551-b954-4374-deed-0db5d00527be"
      },
      "execution_count": null,
      "outputs": [
        {
          "output_type": "stream",
          "name": "stdout",
          "text": [
            "Model: \"sequential\"\n",
            "_________________________________________________________________\n",
            " Layer (type)                Output Shape              Param #   \n",
            "=================================================================\n",
            " simple_rnn (SimpleRNN)      (None, 8)                 4072      \n",
            "                                                                 \n",
            " dense (Dense)               (None, 1)                 9         \n",
            "                                                                 \n",
            "=================================================================\n",
            "Total params: 4,081\n",
            "Trainable params: 4,081\n",
            "Non-trainable params: 0\n",
            "_________________________________________________________________\n"
          ]
        }
      ]
    },
    {
      "cell_type": "code",
      "source": [
        "rmsprop = keras.optimizers.RMSprop(learning_rate=1e-4)\n",
        "model.compile(optimizer=rmsprop, loss='binary_crossentropy', \n",
        "              metrics=['accuracy'])\n",
        "\n",
        "checkpoint_cb = keras.callbacks.ModelCheckpoint('best-simplernn-model.h5', \n",
        "                                                save_best_only=True)\n",
        "early_stopping_cb = keras.callbacks.EarlyStopping(patience=3,\n",
        "                                                  restore_best_weights=True)\n",
        "\n",
        "history = model.fit(train_oh, train_target, epochs=100, batch_size=64,\n",
        "                    validation_data=(val_oh, val_target),\n",
        "                    callbacks=[checkpoint_cb, early_stopping_cb])"
      ],
      "metadata": {
        "colab": {
          "base_uri": "https://localhost:8080/"
        },
        "id": "64Q044abKTdt",
        "outputId": "f575921f-9e75-4b70-a0c6-a302180b7efa"
      },
      "execution_count": null,
      "outputs": [
        {
          "output_type": "stream",
          "name": "stdout",
          "text": [
            "Epoch 1/100\n",
            "313/313 [==============================] - 22s 66ms/step - loss: 0.6989 - accuracy: 0.5041 - val_loss: 0.6978 - val_accuracy: 0.5038\n",
            "Epoch 2/100\n",
            "313/313 [==============================] - 19s 62ms/step - loss: 0.6946 - accuracy: 0.5102 - val_loss: 0.6949 - val_accuracy: 0.5102\n",
            "Epoch 3/100\n",
            "313/313 [==============================] - 19s 60ms/step - loss: 0.6920 - accuracy: 0.5200 - val_loss: 0.6930 - val_accuracy: 0.5146\n",
            "Epoch 4/100\n",
            "313/313 [==============================] - 19s 60ms/step - loss: 0.6901 - accuracy: 0.5302 - val_loss: 0.6916 - val_accuracy: 0.5230\n",
            "Epoch 5/100\n",
            "313/313 [==============================] - 19s 59ms/step - loss: 0.6883 - accuracy: 0.5408 - val_loss: 0.6905 - val_accuracy: 0.5270\n",
            "Epoch 6/100\n",
            "313/313 [==============================] - 19s 60ms/step - loss: 0.6866 - accuracy: 0.5472 - val_loss: 0.6894 - val_accuracy: 0.5356\n",
            "Epoch 7/100\n",
            "313/313 [==============================] - 19s 62ms/step - loss: 0.6845 - accuracy: 0.5563 - val_loss: 0.6880 - val_accuracy: 0.5416\n",
            "Epoch 8/100\n",
            "313/313 [==============================] - 19s 59ms/step - loss: 0.6819 - accuracy: 0.5659 - val_loss: 0.6856 - val_accuracy: 0.5482\n",
            "Epoch 9/100\n",
            "313/313 [==============================] - 19s 59ms/step - loss: 0.6777 - accuracy: 0.5828 - val_loss: 0.6807 - val_accuracy: 0.5726\n",
            "Epoch 10/100\n",
            "313/313 [==============================] - 19s 60ms/step - loss: 0.6614 - accuracy: 0.6260 - val_loss: 0.6585 - val_accuracy: 0.6240\n",
            "Epoch 11/100\n",
            "313/313 [==============================] - 19s 59ms/step - loss: 0.6407 - accuracy: 0.6654 - val_loss: 0.6425 - val_accuracy: 0.6584\n",
            "Epoch 12/100\n",
            "313/313 [==============================] - 19s 59ms/step - loss: 0.6272 - accuracy: 0.6841 - val_loss: 0.6296 - val_accuracy: 0.6738\n",
            "Epoch 13/100\n",
            "313/313 [==============================] - 18s 59ms/step - loss: 0.6144 - accuracy: 0.6962 - val_loss: 0.6196 - val_accuracy: 0.6848\n",
            "Epoch 14/100\n",
            "313/313 [==============================] - 18s 59ms/step - loss: 0.6007 - accuracy: 0.7117 - val_loss: 0.6080 - val_accuracy: 0.6944\n",
            "Epoch 15/100\n",
            "313/313 [==============================] - 18s 59ms/step - loss: 0.5875 - accuracy: 0.7220 - val_loss: 0.5973 - val_accuracy: 0.7032\n",
            "Epoch 16/100\n",
            "313/313 [==============================] - 18s 59ms/step - loss: 0.5760 - accuracy: 0.7312 - val_loss: 0.5866 - val_accuracy: 0.7110\n",
            "Epoch 17/100\n",
            "313/313 [==============================] - 19s 60ms/step - loss: 0.5645 - accuracy: 0.7383 - val_loss: 0.5792 - val_accuracy: 0.7126\n",
            "Epoch 18/100\n",
            "313/313 [==============================] - 19s 60ms/step - loss: 0.5534 - accuracy: 0.7440 - val_loss: 0.5674 - val_accuracy: 0.7288\n",
            "Epoch 19/100\n",
            "313/313 [==============================] - 18s 59ms/step - loss: 0.5437 - accuracy: 0.7491 - val_loss: 0.5588 - val_accuracy: 0.7312\n",
            "Epoch 20/100\n",
            "313/313 [==============================] - 18s 59ms/step - loss: 0.5355 - accuracy: 0.7542 - val_loss: 0.5498 - val_accuracy: 0.7374\n",
            "Epoch 21/100\n",
            "313/313 [==============================] - 19s 59ms/step - loss: 0.5258 - accuracy: 0.7605 - val_loss: 0.5389 - val_accuracy: 0.7458\n",
            "Epoch 22/100\n",
            "313/313 [==============================] - 18s 59ms/step - loss: 0.5185 - accuracy: 0.7616 - val_loss: 0.5342 - val_accuracy: 0.7494\n",
            "Epoch 23/100\n",
            "313/313 [==============================] - 18s 59ms/step - loss: 0.5101 - accuracy: 0.7675 - val_loss: 0.5288 - val_accuracy: 0.7506\n",
            "Epoch 24/100\n",
            "313/313 [==============================] - 21s 66ms/step - loss: 0.5039 - accuracy: 0.7717 - val_loss: 0.5190 - val_accuracy: 0.7578\n",
            "Epoch 25/100\n",
            "313/313 [==============================] - 20s 65ms/step - loss: 0.4966 - accuracy: 0.7736 - val_loss: 0.5239 - val_accuracy: 0.7508\n",
            "Epoch 26/100\n",
            "313/313 [==============================] - 21s 66ms/step - loss: 0.4902 - accuracy: 0.7790 - val_loss: 0.5110 - val_accuracy: 0.7606\n",
            "Epoch 27/100\n",
            "313/313 [==============================] - 20s 65ms/step - loss: 0.4847 - accuracy: 0.7816 - val_loss: 0.5060 - val_accuracy: 0.7632\n",
            "Epoch 28/100\n",
            "313/313 [==============================] - 20s 65ms/step - loss: 0.4810 - accuracy: 0.7834 - val_loss: 0.5034 - val_accuracy: 0.7640\n",
            "Epoch 29/100\n",
            "313/313 [==============================] - 21s 66ms/step - loss: 0.4760 - accuracy: 0.7843 - val_loss: 0.5026 - val_accuracy: 0.7616\n",
            "Epoch 30/100\n",
            "313/313 [==============================] - 21s 66ms/step - loss: 0.4709 - accuracy: 0.7880 - val_loss: 0.4981 - val_accuracy: 0.7696\n",
            "Epoch 31/100\n",
            "313/313 [==============================] - 21s 66ms/step - loss: 0.4660 - accuracy: 0.7921 - val_loss: 0.4972 - val_accuracy: 0.7688\n",
            "Epoch 32/100\n",
            "313/313 [==============================] - 21s 66ms/step - loss: 0.4614 - accuracy: 0.7951 - val_loss: 0.4961 - val_accuracy: 0.7620\n",
            "Epoch 33/100\n",
            "313/313 [==============================] - 21s 66ms/step - loss: 0.4596 - accuracy: 0.7951 - val_loss: 0.4913 - val_accuracy: 0.7686\n",
            "Epoch 34/100\n",
            "313/313 [==============================] - 21s 66ms/step - loss: 0.4556 - accuracy: 0.7976 - val_loss: 0.4944 - val_accuracy: 0.7636\n",
            "Epoch 35/100\n",
            "313/313 [==============================] - 21s 66ms/step - loss: 0.4529 - accuracy: 0.7987 - val_loss: 0.4874 - val_accuracy: 0.7744\n",
            "Epoch 36/100\n",
            "313/313 [==============================] - 21s 66ms/step - loss: 0.4499 - accuracy: 0.8025 - val_loss: 0.4866 - val_accuracy: 0.7738\n",
            "Epoch 37/100\n",
            "313/313 [==============================] - 21s 66ms/step - loss: 0.4470 - accuracy: 0.8043 - val_loss: 0.4831 - val_accuracy: 0.7718\n",
            "Epoch 38/100\n",
            "313/313 [==============================] - 20s 65ms/step - loss: 0.4450 - accuracy: 0.8026 - val_loss: 0.4834 - val_accuracy: 0.7698\n",
            "Epoch 39/100\n",
            "313/313 [==============================] - 20s 65ms/step - loss: 0.4424 - accuracy: 0.8055 - val_loss: 0.4808 - val_accuracy: 0.7744\n",
            "Epoch 40/100\n",
            "313/313 [==============================] - 23s 75ms/step - loss: 0.4402 - accuracy: 0.8077 - val_loss: 0.4950 - val_accuracy: 0.7710\n",
            "Epoch 41/100\n",
            "313/313 [==============================] - 25s 79ms/step - loss: 0.4376 - accuracy: 0.8084 - val_loss: 0.4796 - val_accuracy: 0.7786\n",
            "Epoch 42/100\n",
            "313/313 [==============================] - 20s 65ms/step - loss: 0.4372 - accuracy: 0.8084 - val_loss: 0.4836 - val_accuracy: 0.7768\n",
            "Epoch 43/100\n",
            "313/313 [==============================] - 20s 65ms/step - loss: 0.4348 - accuracy: 0.8098 - val_loss: 0.4785 - val_accuracy: 0.7810\n",
            "Epoch 44/100\n",
            "313/313 [==============================] - 21s 67ms/step - loss: 0.4332 - accuracy: 0.8099 - val_loss: 0.4743 - val_accuracy: 0.7794\n",
            "Epoch 45/100\n",
            "313/313 [==============================] - 21s 66ms/step - loss: 0.4319 - accuracy: 0.8102 - val_loss: 0.4806 - val_accuracy: 0.7780\n",
            "Epoch 46/100\n",
            "313/313 [==============================] - 20s 65ms/step - loss: 0.4293 - accuracy: 0.8126 - val_loss: 0.4747 - val_accuracy: 0.7788\n",
            "Epoch 47/100\n",
            "313/313 [==============================] - 21s 66ms/step - loss: 0.4281 - accuracy: 0.8134 - val_loss: 0.4728 - val_accuracy: 0.7762\n",
            "Epoch 48/100\n",
            "313/313 [==============================] - 20s 65ms/step - loss: 0.4265 - accuracy: 0.8149 - val_loss: 0.4703 - val_accuracy: 0.7812\n",
            "Epoch 49/100\n",
            "313/313 [==============================] - 21s 66ms/step - loss: 0.4252 - accuracy: 0.8146 - val_loss: 0.4699 - val_accuracy: 0.7798\n",
            "Epoch 50/100\n",
            "313/313 [==============================] - 21s 66ms/step - loss: 0.4235 - accuracy: 0.8166 - val_loss: 0.4676 - val_accuracy: 0.7800\n",
            "Epoch 51/100\n",
            "313/313 [==============================] - 20s 65ms/step - loss: 0.4222 - accuracy: 0.8173 - val_loss: 0.4684 - val_accuracy: 0.7820\n",
            "Epoch 52/100\n",
            "313/313 [==============================] - 21s 66ms/step - loss: 0.4206 - accuracy: 0.8178 - val_loss: 0.4676 - val_accuracy: 0.7808\n",
            "Epoch 53/100\n",
            "313/313 [==============================] - 21s 67ms/step - loss: 0.4196 - accuracy: 0.8173 - val_loss: 0.4766 - val_accuracy: 0.7774\n",
            "Epoch 54/100\n",
            "313/313 [==============================] - 18s 59ms/step - loss: 0.4184 - accuracy: 0.8191 - val_loss: 0.4654 - val_accuracy: 0.7824\n",
            "Epoch 55/100\n",
            "313/313 [==============================] - 18s 59ms/step - loss: 0.4171 - accuracy: 0.8198 - val_loss: 0.4636 - val_accuracy: 0.7842\n",
            "Epoch 56/100\n",
            "313/313 [==============================] - 18s 59ms/step - loss: 0.4160 - accuracy: 0.8195 - val_loss: 0.4629 - val_accuracy: 0.7856\n",
            "Epoch 57/100\n",
            "313/313 [==============================] - 19s 59ms/step - loss: 0.4146 - accuracy: 0.8203 - val_loss: 0.4618 - val_accuracy: 0.7860\n",
            "Epoch 58/100\n",
            "313/313 [==============================] - 18s 59ms/step - loss: 0.4131 - accuracy: 0.8207 - val_loss: 0.4629 - val_accuracy: 0.7852\n",
            "Epoch 59/100\n",
            "313/313 [==============================] - 18s 58ms/step - loss: 0.4118 - accuracy: 0.8223 - val_loss: 0.4664 - val_accuracy: 0.7838\n",
            "Epoch 60/100\n",
            "313/313 [==============================] - 18s 59ms/step - loss: 0.4111 - accuracy: 0.8230 - val_loss: 0.4621 - val_accuracy: 0.7864\n"
          ]
        }
      ]
    },
    {
      "cell_type": "code",
      "source": [
        "plt.plot(history.history['loss'])\n",
        "plt.plot(history.history['val_loss'])\n",
        "plt.xlabel('epoch')\n",
        "plt.ylabel('loss')\n",
        "plt.legend(['train', 'val'])\n",
        "plt.show()"
      ],
      "metadata": {
        "colab": {
          "base_uri": "https://localhost:8080/",
          "height": 279
        },
        "id": "41VHHxhdKWHW",
        "outputId": "a0801828-1659-4b90-b5f9-8d8a8f585c84"
      },
      "execution_count": null,
      "outputs": [
        {
          "output_type": "display_data",
          "data": {
            "text/plain": [
              "<Figure size 432x288 with 1 Axes>"
            ],
            "image/png": "[encoded data removed]"
          },
          "metadata": {
            "needs_background": "light"
          }
        }
      ]
    },
    {
      "cell_type": "code",
      "source": [
        "model2 = keras.Sequential()\n",
        "\n",
        "model2.add(keras.layers.Embedding(500, 16, input_length=100))\n",
        "model2.add(keras.layers.SimpleRNN(8))\n",
        "model2.add(keras.layers.Dense(1, activation='sigmoid'))\n",
        "\n",
        "model2.summary()"
      ],
      "metadata": {
        "colab": {
          "base_uri": "https://localhost:8080/"
        },
        "id": "f4n-Ngs-KXu4",
        "outputId": "8ef7ef9d-9188-4fdb-b18e-0237cf074873"
      },
      "execution_count": null,
      "outputs": [
        {
          "output_type": "stream",
          "name": "stdout",
          "text": [
            "Model: \"sequential_1\"\n",
            "_________________________________________________________________\n",
            " Layer (type)                Output Shape              Param #   \n",
            "=================================================================\n",
            " embedding (Embedding)       (None, 100, 16)           8000      \n",
            "                                                                 \n",
            " simple_rnn_1 (SimpleRNN)    (None, 8)                 200       \n",
            "                                                                 \n",
            " dense_1 (Dense)             (None, 1)                 9         \n",
            "                                                                 \n",
            "=================================================================\n",
            "Total params: 8,209\n",
            "Trainable params: 8,209\n",
            "Non-trainable params: 0\n",
            "_________________________________________________________________\n"
          ]
        }
      ]
    },
    {
      "cell_type": "code",
      "source": [
        "rmsprop = keras.optimizers.RMSprop(learning_rate=1e-4)\n",
        "model2.compile(optimizer=rmsprop, loss='binary_crossentropy', \n",
        "               metrics=['accuracy'])\n",
        "\n",
        "checkpoint_cb = keras.callbacks.ModelCheckpoint('best-embedding-model.h5', \n",
        "                                                save_best_only=True)\n",
        "early_stopping_cb = keras.callbacks.EarlyStopping(patience=3,\n",
        "                                                  restore_best_weights=True)\n",
        "\n",
        "history = model2.fit(train_seq, train_target, epochs=100, batch_size=64,\n",
        "                     validation_data=(val_seq, val_target),\n",
        "                     callbacks=[checkpoint_cb, early_stopping_cb])"
      ],
      "metadata": {
        "colab": {
          "base_uri": "https://localhost:8080/"
        },
        "id": "B3IWIseMNOuc",
        "outputId": "c0cf8f8f-83b3-409b-cad4-76950c28242a"
      },
      "execution_count": null,
      "outputs": [
        {
          "output_type": "stream",
          "name": "stdout",
          "text": [
            "Epoch 1/100\n",
            "313/313 [==============================] - 13s 38ms/step - loss: 0.6949 - accuracy: 0.5066 - val_loss: 0.6933 - val_accuracy: 0.5052\n",
            "Epoch 2/100\n",
            "313/313 [==============================] - 7s 22ms/step - loss: 0.6914 - accuracy: 0.5254 - val_loss: 0.6914 - val_accuracy: 0.5242\n",
            "Epoch 3/100\n",
            "313/313 [==============================] - 7s 23ms/step - loss: 0.6888 - accuracy: 0.5439 - val_loss: 0.6877 - val_accuracy: 0.5494\n",
            "Epoch 4/100\n",
            "313/313 [==============================] - 7s 22ms/step - loss: 0.6793 - accuracy: 0.6054 - val_loss: 0.6740 - val_accuracy: 0.6294\n",
            "Epoch 5/100\n",
            "313/313 [==============================] - 7s 22ms/step - loss: 0.6614 - accuracy: 0.6690 - val_loss: 0.6552 - val_accuracy: 0.6844\n",
            "Epoch 6/100\n",
            "313/313 [==============================] - 7s 23ms/step - loss: 0.6403 - accuracy: 0.7056 - val_loss: 0.6359 - val_accuracy: 0.7028\n",
            "Epoch 7/100\n",
            "313/313 [==============================] - 7s 22ms/step - loss: 0.6205 - accuracy: 0.7247 - val_loss: 0.6177 - val_accuracy: 0.7180\n",
            "Epoch 8/100\n",
            "313/313 [==============================] - 7s 22ms/step - loss: 0.6019 - accuracy: 0.7400 - val_loss: 0.6003 - val_accuracy: 0.7348\n",
            "Epoch 9/100\n",
            "313/313 [==============================] - 7s 23ms/step - loss: 0.5855 - accuracy: 0.7519 - val_loss: 0.5938 - val_accuracy: 0.7322\n",
            "Epoch 10/100\n",
            "313/313 [==============================] - 7s 22ms/step - loss: 0.5701 - accuracy: 0.7618 - val_loss: 0.5724 - val_accuracy: 0.7590\n",
            "Epoch 11/100\n",
            "313/313 [==============================] - 7s 22ms/step - loss: 0.5549 - accuracy: 0.7713 - val_loss: 0.5619 - val_accuracy: 0.7634\n",
            "Epoch 12/100\n",
            "313/313 [==============================] - 7s 22ms/step - loss: 0.5412 - accuracy: 0.7785 - val_loss: 0.5497 - val_accuracy: 0.7600\n",
            "Epoch 13/100\n",
            "313/313 [==============================] - 7s 23ms/step - loss: 0.5294 - accuracy: 0.7822 - val_loss: 0.5404 - val_accuracy: 0.7682\n",
            "Epoch 14/100\n",
            "313/313 [==============================] - 7s 22ms/step - loss: 0.5171 - accuracy: 0.7889 - val_loss: 0.5314 - val_accuracy: 0.7652\n",
            "Epoch 15/100\n",
            "313/313 [==============================] - 7s 22ms/step - loss: 0.5062 - accuracy: 0.7914 - val_loss: 0.5235 - val_accuracy: 0.7720\n",
            "Epoch 16/100\n",
            "313/313 [==============================] - 7s 23ms/step - loss: 0.4954 - accuracy: 0.7975 - val_loss: 0.5142 - val_accuracy: 0.7746\n",
            "Epoch 17/100\n",
            "313/313 [==============================] - 7s 24ms/step - loss: 0.4855 - accuracy: 0.8008 - val_loss: 0.5175 - val_accuracy: 0.7646\n",
            "Epoch 18/100\n",
            "313/313 [==============================] - 7s 23ms/step - loss: 0.4780 - accuracy: 0.8019 - val_loss: 0.5004 - val_accuracy: 0.7794\n",
            "Epoch 19/100\n",
            "313/313 [==============================] - 7s 22ms/step - loss: 0.4692 - accuracy: 0.8049 - val_loss: 0.4962 - val_accuracy: 0.7778\n",
            "Epoch 20/100\n",
            "313/313 [==============================] - 7s 22ms/step - loss: 0.4619 - accuracy: 0.8069 - val_loss: 0.4904 - val_accuracy: 0.7796\n",
            "Epoch 21/100\n",
            "313/313 [==============================] - 7s 22ms/step - loss: 0.4561 - accuracy: 0.8087 - val_loss: 0.4865 - val_accuracy: 0.7804\n",
            "Epoch 22/100\n",
            "313/313 [==============================] - 7s 22ms/step - loss: 0.4502 - accuracy: 0.8112 - val_loss: 0.4970 - val_accuracy: 0.7690\n",
            "Epoch 23/100\n",
            "313/313 [==============================] - 7s 23ms/step - loss: 0.4449 - accuracy: 0.8124 - val_loss: 0.4825 - val_accuracy: 0.7802\n",
            "Epoch 24/100\n",
            "313/313 [==============================] - 7s 23ms/step - loss: 0.4391 - accuracy: 0.8138 - val_loss: 0.4787 - val_accuracy: 0.7832\n",
            "Epoch 25/100\n",
            "313/313 [==============================] - 7s 22ms/step - loss: 0.4359 - accuracy: 0.8161 - val_loss: 0.4763 - val_accuracy: 0.7820\n",
            "Epoch 26/100\n",
            "313/313 [==============================] - 7s 22ms/step - loss: 0.4306 - accuracy: 0.8191 - val_loss: 0.4780 - val_accuracy: 0.7782\n",
            "Epoch 27/100\n",
            "313/313 [==============================] - 7s 22ms/step - loss: 0.4277 - accuracy: 0.8193 - val_loss: 0.4745 - val_accuracy: 0.7790\n",
            "Epoch 28/100\n",
            "313/313 [==============================] - 7s 22ms/step - loss: 0.4246 - accuracy: 0.8202 - val_loss: 0.4711 - val_accuracy: 0.7810\n",
            "Epoch 29/100\n",
            "313/313 [==============================] - 7s 23ms/step - loss: 0.4217 - accuracy: 0.8208 - val_loss: 0.4801 - val_accuracy: 0.7784\n",
            "Epoch 30/100\n",
            "313/313 [==============================] - 7s 23ms/step - loss: 0.4186 - accuracy: 0.8220 - val_loss: 0.4741 - val_accuracy: 0.7798\n",
            "Epoch 31/100\n",
            "313/313 [==============================] - 7s 23ms/step - loss: 0.4154 - accuracy: 0.8237 - val_loss: 0.4747 - val_accuracy: 0.7766\n"
          ]
        }
      ]
    },
    {
      "cell_type": "code",
      "source": [
        "plt.plot(history.history['loss'])\n",
        "plt.plot(history.history['val_loss'])\n",
        "plt.xlabel('epoch')\n",
        "plt.ylabel('loss')\n",
        "plt.legend(['train', 'val'])\n",
        "plt.show()"
      ],
      "metadata": {
        "colab": {
          "base_uri": "https://localhost:8080/",
          "height": 279
        },
        "id": "EXw2IzInNSQW",
        "outputId": "c052e5af-098a-4841-cccf-0c71413667db"
      },
      "execution_count": null,
      "outputs": [
        {
          "output_type": "display_data",
          "data": {
            "text/plain": [
              "<Figure size 432x288 with 1 Axes>"
            ],
            "image/png": "[encoded data removed]"
          },
          "metadata": {
            "needs_background": "light"
          }
        }
      ]
    }
  ]
}